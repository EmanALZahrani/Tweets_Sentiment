{
 "cells": [
  {
   "cell_type": "markdown",
   "metadata": {},
   "source": [
    "# Tweets Sentiment Analysis\n",
    "\n",
    "**Sentiment Analysis**: Social media can be a great place to connect with others and share positive thoughts and experiences. However, it can also be a breeding ground for negativity and hate speech. This project aims to develop a system to rank tweets by kindness in order to promote more positive and supportive online interactions.\n",
    "\n",
    "**Benefits:**\n",
    "\n",
    "\n",
    "The proposed system has the potential to provide a number of benefits, including:\n",
    "\n",
    "- Promoting more positive and supportive online interactions\n",
    "- Reducing the spread of negativity and hate speech\n",
    "- Helping people to find and connect with others who share their values\n",
    "- Making social media a more enjoyable and welcoming place for everyone\n",
    "\n",
    "**Dataset**:\n",
    "\n",
    "1. `tweets.txt` - a list of tweets (one per line)\n",
    "1. `words_positive.txt` - a list of positive words like \"love,\" \"compassion,\" and \"gratitude\"\n",
    "1. `words_negative.txt` - a list of negative words like \"hate,\" \"anger,\" and \"fear\"\n",
    "\n",
    "**Requirements:**\n",
    "\n",
    "The proposed system will use sentiment analysis to identify and rank tweets based on their level of positiveness and negativeness.\n",
    "\n",
    "The system should display the tweets sorted by their score, with the most positive tweets first."
   ]
  },
  {
   "cell_type": "code",
   "execution_count": 68,
   "metadata": {},
   "outputs": [
    {
     "name": "stdout",
     "output_type": "stream",
     "text": [
      "Tweet: The intelligent and talented young woman had a bright future ahead of her. She was passionate about her work and she was determined to make a difference in the world and Score: 6\n",
      "Tweet: The kind and generous old man was always willing to help others. He was a role model for the entire community and he was loved by everyone and Score: 4\n",
      "Tweet: Grateful for the amazing people in my life who make it so wonderful and Score: 3\n",
      "Tweet: The beautiful flowers were in full bloom and the sweet scent filled the air. The birds were singing merrily and the sun was shining brightly. It was a perfect day and Score: 3\n",
      "Tweet: Sending out good vibes to everyone today! Have a beautiful day! and Score: 2\n",
      "Tweet: Went out with some friends last night but didn't have as much fun as I thought. Felt a bit lonely and left early feeling uneasy. and Score: 1\n",
      "Tweet: All the noise from the construction outside is driving me nuts. It's making working from home dreadful. and Score: -1\n",
      "Tweet: I've been feeling so anxious and stressed lately with everything going on. Really need a break from it all. and Score: -2\n",
      "Tweet: Traffic was the worst it's ever been today. The long commute just made me feel grumpy and drained. and Score: -2\n",
      "Tweet: Had an awful morning - overslept and missed my first meeting. Feeling uneasy about how my boss will react. and Score: -5\n"
     ]
    }
   ],
   "source": [
    "with open('words_negative.txt', 'r') as neg:\n",
    "    negative = []\n",
    "    for line in neg:\n",
    "        line = line.strip()\n",
    "        negative.append(line)\n",
    "neg.close()\n",
    "with open('words_positive.txt', 'r') as pos:\n",
    "    positive = []\n",
    "    for line in pos:\n",
    "        line = line.strip()\n",
    "        positive.append(line)\n",
    "pos.close()\n",
    "with open('tweets.txt', 'r') as file:\n",
    "    lines = []\n",
    "    for line in file:\n",
    "        line = line.strip()\n",
    "        lines.append(line)\n",
    "    \n",
    "\n",
    "    tweets_scores = []\n",
    "    for tweet in lines:\n",
    "        score = 0\n",
    "        words = tweet.split()\n",
    "        for word in words:\n",
    "            if word in positive:\n",
    "               score += 1\n",
    "            elif word in negative:\n",
    "                score -= 1\n",
    "        tweets_scores.append((tweet, score))\n",
    "    \n",
    "    tweets_scores.sort(key=lambda x: x[1], reverse=True)\n",
    "    for tweet, score in tweets_scores:\n",
    "        print(f\"Tweet: {tweet} and Score: {score}\")\n",
    "\n",
    "file.close() \n",
    "\n"
   ]
  }
 ],
 "metadata": {
  "kernelspec": {
   "display_name": "Python 3",
   "language": "python",
   "name": "python3"
  },
  "language_info": {
   "codemirror_mode": {
    "name": "ipython",
    "version": 3
   },
   "file_extension": ".py",
   "mimetype": "text/x-python",
   "name": "python",
   "nbconvert_exporter": "python",
   "pygments_lexer": "ipython3",
   "version": "3.11.8"
  }
 },
 "nbformat": 4,
 "nbformat_minor": 2
}
